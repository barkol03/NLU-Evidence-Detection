{
 "cells": [
  {
   "cell_type": "code",
   "execution_count": null,
   "metadata": {
    "vscode": {
     "languageId": "powershell"
    }
   },
   "outputs": [],
   "source": [
    "%pip install pandas\n",
    "%pip install nltk\n",
    "%pip install scikit-learn"
   ]
  },
  {
   "cell_type": "code",
   "execution_count": null,
   "metadata": {},
   "outputs": [],
   "source": [
    "from nltk.tokenize import word_tokenize\n",
    "from nltk.corpus import stopwords\n",
    "from joblib import load\n",
    "import re\n",
    "import pandas as pd\n",
    "import nltk\n",
    "\n",
    "\n",
    "nltk.download('punkt')\n",
    "nltk.download('punkt_tab')\n",
    "nltk.download('stopwords')\n",
    "\n",
    "\n",
    "PUNCTUATION_PATTERN = re.compile(r'[^\\w\\s]')\n",
    "STOPWORDS = set(stopwords.words('english'))\n",
    "\n",
    "def preprocess_text(text):\n",
    "    text = text.lower()\n",
    "    text = PUNCTUATION_PATTERN.sub('', text) # Remove punctuation\n",
    "    tokens = word_tokenize(text)\n",
    "    # Stopword removal\n",
    "    tokens = [word for word in tokens if word not in STOPWORDS]\n",
    "    return ' '.join(tokens)\n",
    "\n",
    "def write_predictions(input_csv_path, tfidf, model, output_csv_path='predictions.csv'):\n",
    "    test_df = pd.read_csv(input_csv_path)\n",
    "    \n",
    "    test_df['Claim'] = test_df['Claim'].apply(preprocess_text)\n",
    "    test_df['Evidence'] = test_df['Evidence'].apply(preprocess_text)\n",
    "    \n",
    "    test_df['Combined_Text'] = test_df['Claim'] + \" \" + test_df['Evidence']\n",
    "    \n",
    "    X_test = tfidf.transform(test_df['Combined_Text']).toarray()\n",
    "    \n",
    "    predictions = model.predict(X_test)\n",
    "    \n",
    "\n",
    "    pd.DataFrame(predictions, columns=['prediction']).to_csv(output_csv_path, index=False)\n",
    "\n",
    "loaded_pipeline = load(\"best_model_pipeline.joblib\")\n",
    "best_tfidf = loaded_pipeline[0]\n",
    "best_model = loaded_pipeline[1]\n",
    "\n",
    "write_predictions('data/test.csv', best_tfidf, best_model)"
   ]
  }
 ],
 "metadata": {
  "kernelspec": {
   "display_name": "venv",
   "language": "python",
   "name": "python3"
  },
  "language_info": {
   "name": "python",
   "version": "3.12.4"
  }
 },
 "nbformat": 4,
 "nbformat_minor": 2
}
