{
 "cells": [
  {
   "cell_type": "markdown",
   "metadata": {},
   "source": [
    "# Importing files"
   ]
  },
  {
   "cell_type": "code",
   "execution_count": 10,
   "metadata": {
    "vscode": {
     "languageId": "powershell"
    }
   },
   "outputs": [
    {
     "name": "stdout",
     "output_type": "stream",
     "text": [
      "Requirement already satisfied: pandas in c:\\users\\berso\\desktop\\nlu-cw\\venv\\lib\\site-packages (2.2.3)\n",
      "Requirement already satisfied: numpy>=1.26.0 in c:\\users\\berso\\desktop\\nlu-cw\\venv\\lib\\site-packages (from pandas) (2.2.4)\n",
      "Requirement already satisfied: python-dateutil>=2.8.2 in c:\\users\\berso\\desktop\\nlu-cw\\venv\\lib\\site-packages (from pandas) (2.9.0.post0)\n",
      "Requirement already satisfied: pytz>=2020.1 in c:\\users\\berso\\desktop\\nlu-cw\\venv\\lib\\site-packages (from pandas) (2025.1)\n",
      "Requirement already satisfied: tzdata>=2022.7 in c:\\users\\berso\\desktop\\nlu-cw\\venv\\lib\\site-packages (from pandas) (2025.2)\n",
      "Requirement already satisfied: six>=1.5 in c:\\users\\berso\\desktop\\nlu-cw\\venv\\lib\\site-packages (from python-dateutil>=2.8.2->pandas) (1.17.0)\n",
      "Note: you may need to restart the kernel to use updated packages.\n"
     ]
    },
    {
     "name": "stderr",
     "output_type": "stream",
     "text": [
      "\n",
      "[notice] A new release of pip is available: 24.0 -> 25.0.1\n",
      "[notice] To update, run: python.exe -m pip install --upgrade pip\n"
     ]
    },
    {
     "name": "stdout",
     "output_type": "stream",
     "text": [
      "Requirement already satisfied: nltk in c:\\users\\berso\\desktop\\nlu-cw\\venv\\lib\\site-packages (3.9.1)\n",
      "Requirement already satisfied: click in c:\\users\\berso\\desktop\\nlu-cw\\venv\\lib\\site-packages (from nltk) (8.1.8)\n",
      "Requirement already satisfied: joblib in c:\\users\\berso\\desktop\\nlu-cw\\venv\\lib\\site-packages (from nltk) (1.4.2)\n",
      "Requirement already satisfied: regex>=2021.8.3 in c:\\users\\berso\\desktop\\nlu-cw\\venv\\lib\\site-packages (from nltk) (2024.11.6)\n",
      "Requirement already satisfied: tqdm in c:\\users\\berso\\desktop\\nlu-cw\\venv\\lib\\site-packages (from nltk) (4.67.1)\n",
      "Requirement already satisfied: colorama in c:\\users\\berso\\desktop\\nlu-cw\\venv\\lib\\site-packages (from click->nltk) (0.4.6)\n",
      "Note: you may need to restart the kernel to use updated packages.\n"
     ]
    },
    {
     "name": "stderr",
     "output_type": "stream",
     "text": [
      "\n",
      "[notice] A new release of pip is available: 24.0 -> 25.0.1\n",
      "[notice] To update, run: python.exe -m pip install --upgrade pip\n"
     ]
    },
    {
     "name": "stdout",
     "output_type": "stream",
     "text": [
      "Requirement already satisfied: scikit-learn in c:\\users\\berso\\desktop\\nlu-cw\\venv\\lib\\site-packages (1.6.1)\n",
      "Requirement already satisfied: numpy>=1.19.5 in c:\\users\\berso\\desktop\\nlu-cw\\venv\\lib\\site-packages (from scikit-learn) (2.2.4)\n",
      "Requirement already satisfied: scipy>=1.6.0 in c:\\users\\berso\\desktop\\nlu-cw\\venv\\lib\\site-packages (from scikit-learn) (1.15.2)\n",
      "Requirement already satisfied: joblib>=1.2.0 in c:\\users\\berso\\desktop\\nlu-cw\\venv\\lib\\site-packages (from scikit-learn) (1.4.2)\n",
      "Requirement already satisfied: threadpoolctl>=3.1.0 in c:\\users\\berso\\desktop\\nlu-cw\\venv\\lib\\site-packages (from scikit-learn) (3.6.0)\n",
      "Note: you may need to restart the kernel to use updated packages.\n"
     ]
    },
    {
     "name": "stderr",
     "output_type": "stream",
     "text": [
      "\n",
      "[notice] A new release of pip is available: 24.0 -> 25.0.1\n",
      "[notice] To update, run: python.exe -m pip install --upgrade pip\n"
     ]
    }
   ],
   "source": [
    "%pip install pandas\n",
    "%pip install nltk\n",
    "%pip install scikit-learn"
   ]
  },
  {
   "cell_type": "code",
   "execution_count": 11,
   "metadata": {},
   "outputs": [
    {
     "name": "stderr",
     "output_type": "stream",
     "text": [
      "[nltk_data] Downloading package punkt to\n",
      "[nltk_data]     C:\\Users\\berso\\AppData\\Roaming\\nltk_data...\n",
      "[nltk_data]   Package punkt is already up-to-date!\n",
      "[nltk_data] Downloading package punkt_tab to\n",
      "[nltk_data]     C:\\Users\\berso\\AppData\\Roaming\\nltk_data...\n",
      "[nltk_data]   Package punkt_tab is already up-to-date!\n",
      "[nltk_data] Downloading package stopwords to\n",
      "[nltk_data]     C:\\Users\\berso\\AppData\\Roaming\\nltk_data...\n",
      "[nltk_data]   Package stopwords is already up-to-date!\n"
     ]
    },
    {
     "data": {
      "text/plain": [
       "True"
      ]
     },
     "execution_count": 11,
     "metadata": {},
     "output_type": "execute_result"
    }
   ],
   "source": [
    "import pandas as pd\n",
    "import re\n",
    "from nltk.tokenize import word_tokenize\n",
    "from nltk.corpus import stopwords\n",
    "from sklearn.feature_extraction.text import TfidfVectorizer\n",
    "from sklearn.linear_model import LogisticRegression\n",
    "from sklearn.metrics import accuracy_score, classification_report\n",
    "from sklearn.pipeline import Pipeline\n",
    "from sklearn.model_selection import GridSearchCV\n",
    "import nltk\n",
    "from joblib import dump\n",
    "\n",
    "nltk.download('punkt')\n",
    "nltk.download('punkt_tab')\n",
    "nltk.download('stopwords')"
   ]
  },
  {
   "cell_type": "markdown",
   "metadata": {},
   "source": [
    "# Text Preprocessing"
   ]
  },
  {
   "cell_type": "code",
   "execution_count": null,
   "metadata": {},
   "outputs": [],
   "source": [
    "PUNCTUATION_PATTERN = re.compile(r'[^\\w\\s]')\n",
    "STOPWORDS = set(stopwords.words('english'))\n",
    "\n",
    "def preprocess_text(text):\n",
    "    text = text.lower() # Convert text to lowercase\n",
    "    text = PUNCTUATION_PATTERN.sub('', text) # Remove punctuation\n",
    "    tokens = word_tokenize(text)\n",
    "    tokens = [word for word in tokens if word not in STOPWORDS] # Stopword removal\n",
    "    return ' '.join(tokens)\n",
    "\n",
    "def prepare_data(df):\n",
    "    df = df.copy()\n",
    "    df['Claim'] = df['Claim'].apply(preprocess_text)\n",
    "    df['Evidence'] = df['Evidence'].apply(preprocess_text)\n",
    "    df['Combined_Text'] = df['Claim'] + \" \" + df['Evidence']\n",
    "    return df\n",
    "\n",
    "train_df = prepare_data(pd.read_csv('data/train.csv'))\n",
    "dev_df = prepare_data(pd.read_csv('data/dev.csv'))"
   ]
  },
  {
   "cell_type": "markdown",
   "metadata": {},
   "source": [
    "# Hyperparameter Selection"
   ]
  },
  {
   "cell_type": "code",
   "execution_count": null,
   "metadata": {},
   "outputs": [
    {
     "name": "stdout",
     "output_type": "stream",
     "text": [
      "Best parameters: {'model': LogisticRegression(), 'model__solver': 'lbfgs', 'tfidf__max_df': 0.75, 'tfidf__max_features': 15000, 'tfidf__min_df': 2, 'tfidf__ngram_range': (1, 4)}\n",
      "Best cross-validation score: 0.80\n",
      "\n",
      "Development set results:\n",
      "Accuracy: 0.8002024974687817\n",
      "Classification Report:\n",
      "               precision    recall  f1-score   support\n",
      "\n",
      "           0       0.82      0.93      0.87      4286\n",
      "           1       0.72      0.46      0.56      1640\n",
      "\n",
      "    accuracy                           0.80      5926\n",
      "   macro avg       0.77      0.69      0.72      5926\n",
      "weighted avg       0.79      0.80      0.78      5926\n",
      "\n"
     ]
    },
    {
     "data": {
      "text/plain": [
       "['best_model_pipeline.joblib']"
      ]
     },
     "execution_count": 19,
     "metadata": {},
     "output_type": "execute_result"
    }
   ],
   "source": [
    "pipeline = Pipeline([\n",
    "    ('tfidf', TfidfVectorizer()),\n",
    "    ('model', LogisticRegression())\n",
    "])\n",
    "\n",
    "# Define the parameter grid to search\n",
    "param_grid = [\n",
    "    {\n",
    "        'tfidf__max_features': [5000, 10000, 15000],\n",
    "        'tfidf__ngram_range': [(1, 1), (1, 2), (1, 3), (1, 4)],\n",
    "        'tfidf__min_df': [2, 3, 5],\n",
    "        'tfidf__max_df': [0.75, 0.85, 0.95],\n",
    "        'model': [LogisticRegression()],\n",
    "        'model__solver': ['lbfgs', 'liblinear']\n",
    "    }\n",
    "]\n",
    "\n",
    "# Create GridSearchCV object\n",
    "grid_search = GridSearchCV(\n",
    "    pipeline, \n",
    "    param_grid, \n",
    "    cv=3, \n",
    "    scoring='accuracy',\n",
    "    verbose=1,\n",
    "    n_jobs=-1\n",
    ")\n",
    "\n",
    "# Prepare the data\n",
    "train_text = train_df['Combined_Text'].values\n",
    "y_train = train_df['label'].values\n",
    "dev_text = dev_df['Combined_Text'].values\n",
    "y_dev = dev_df['label'].values\n",
    "\n",
    "# Perform the grid search\n",
    "grid_search.fit(train_text, y_train)\n",
    "\n",
    "# Evaluate on development set\n",
    "y_dev_pred = grid_search.predict(dev_text)\n",
    "\n",
    "# Print results\n",
    "print(\"Best parameters:\", grid_search.best_params_)\n",
    "print(\"Best cross-validation score: {:.2f}\".format(grid_search.best_score_))\n",
    "print(\"\\nDevelopment set results:\")\n",
    "print(\"Accuracy:\", accuracy_score(y_dev, y_dev_pred))\n",
    "print(\"Classification Report:\\n\", classification_report(y_dev, y_dev_pred))\n",
    "\n",
    "# Save the best model and vectorizer\n",
    "best_model_pipeline = grid_search.best_estimator_\n",
    "dump(best_model_pipeline, 'best_model_pipeline.joblib')"
   ]
  },
  {
   "cell_type": "markdown",
   "metadata": {},
   "source": [
    "# Write Predictions Using Best Configuration"
   ]
  },
  {
   "cell_type": "code",
   "execution_count": null,
   "metadata": {},
   "outputs": [],
   "source": [
    "def write_predictions(input_csv_path, tfidf, model, output_csv_path='predictions.csv'):\n",
    "    test_df = pd.read_csv(input_csv_path)\n",
    "    \n",
    "    test_df['Claim'] = test_df['Claim'].apply(preprocess_text)\n",
    "    test_df['Evidence'] = test_df['Evidence'].apply(preprocess_text)\n",
    "    \n",
    "    test_df['Combined_Text'] = test_df['Claim'] + \" \" + test_df['Evidence']\n",
    "    \n",
    "    X_test = tfidf.transform(test_df['Combined_Text']).toarray()\n",
    "    \n",
    "    predictions = model.predict(X_test)\n",
    "    \n",
    "    pd.DataFrame(predictions, columns=['prediction']).to_csv(output_csv_path, index=False)\n",
    "\n",
    "write_predictions(\"data/test.csv\", best_model_pipeline[0], best_model_pipeline[1])"
   ]
  }
 ],
 "metadata": {
  "kernelspec": {
   "display_name": "venv",
   "language": "python",
   "name": "python3"
  },
  "language_info": {
   "codemirror_mode": {
    "name": "ipython",
    "version": 3
   },
   "file_extension": ".py",
   "mimetype": "text/x-python",
   "name": "python",
   "nbconvert_exporter": "python",
   "pygments_lexer": "ipython3",
   "version": "3.12.4"
  }
 },
 "nbformat": 4,
 "nbformat_minor": 2
}
