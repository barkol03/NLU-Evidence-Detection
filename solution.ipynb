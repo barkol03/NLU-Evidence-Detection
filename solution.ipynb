{
 "cells": [
  {
   "cell_type": "markdown",
   "metadata": {},
   "source": [
    "# Importing files"
   ]
  },
  {
   "cell_type": "code",
   "execution_count": 80,
   "metadata": {},
   "outputs": [
    {
     "name": "stderr",
     "output_type": "stream",
     "text": [
      "[nltk_data] Downloading package punkt to\n",
      "[nltk_data]     C:\\Users\\berso\\AppData\\Roaming\\nltk_data...\n",
      "[nltk_data]   Package punkt is already up-to-date!\n",
      "[nltk_data] Downloading package punkt_tab to\n",
      "[nltk_data]     C:\\Users\\berso\\AppData\\Roaming\\nltk_data...\n",
      "[nltk_data]   Package punkt_tab is already up-to-date!\n",
      "[nltk_data] Downloading package stopwords to\n",
      "[nltk_data]     C:\\Users\\berso\\AppData\\Roaming\\nltk_data...\n",
      "[nltk_data]   Package stopwords is already up-to-date!\n"
     ]
    },
    {
     "data": {
      "text/plain": [
       "True"
      ]
     },
     "execution_count": 80,
     "metadata": {},
     "output_type": "execute_result"
    }
   ],
   "source": [
    "import pandas as pd\n",
    "import re\n",
    "from nltk.tokenize import word_tokenize\n",
    "from nltk.corpus import stopwords\n",
    "from sklearn.feature_extraction.text import TfidfVectorizer\n",
    "from sklearn.linear_model import LogisticRegression\n",
    "from sklearn.metrics import accuracy_score, classification_report, f1_score\n",
    "from itertools import product\n",
    "import nltk\n",
    "\n",
    "nltk.download('punkt')\n",
    "nltk.download('punkt_tab')\n",
    "nltk.download('stopwords')"
   ]
  },
  {
   "cell_type": "markdown",
   "metadata": {},
   "source": [
    "# Text Preprocessing"
   ]
  },
  {
   "cell_type": "code",
   "execution_count": 81,
   "metadata": {},
   "outputs": [],
   "source": [
    "PUNCTUATION_PATTERN = re.compile(r'[^\\w\\s]')\n",
    "STOPWORDS = set(stopwords.words('english'))\n",
    "\n",
    "def preprocess_text(text):\n",
    "    text = text.lower()\n",
    "    text = PUNCTUATION_PATTERN.sub('', text) # Remove punctuation\n",
    "    tokens = word_tokenize(text)\n",
    "    # Stopword removal\n",
    "    tokens = [word for word in tokens if word not in STOPWORDS]\n",
    "    return ' '.join(tokens)\n",
    "\n",
    "def prepare_data(df):\n",
    "    \"\"\"Optimized data preparation function\"\"\"\n",
    "    df = df.copy()\n",
    "    df['Claim'] = df['Claim'].apply(preprocess_text)\n",
    "    df['Evidence'] = df['Evidence'].apply(preprocess_text)\n",
    "    df['Combined_Text'] = df['Claim'] + \" \" + df['Evidence']\n",
    "    return df\n",
    "\n",
    "train_df = prepare_data(pd.read_csv('data/train.csv'))\n",
    "dev_df = prepare_data(pd.read_csv('data/dev.csv'))"
   ]
  },
  {
   "cell_type": "markdown",
   "metadata": {},
   "source": [
    "# Creating and testing the model"
   ]
  },
  {
   "cell_type": "code",
   "execution_count": 82,
   "metadata": {},
   "outputs": [
    {
     "name": "stdout",
     "output_type": "stream",
     "text": [
      "Accuracy: 0.8034087073911577\n",
      "Classification Report:\n",
      "               precision    recall  f1-score   support\n",
      "\n",
      "           0       0.82      0.93      0.87      4286\n",
      "           1       0.72      0.47      0.57      1640\n",
      "\n",
      "    accuracy                           0.80      5926\n",
      "   macro avg       0.77      0.70      0.72      5926\n",
      "weighted avg       0.79      0.80      0.79      5926\n",
      "\n"
     ]
    }
   ],
   "source": [
    "tfidf = TfidfVectorizer(\n",
    "    max_features=10000, \n",
    "    ngram_range=(1, 4),\n",
    "    min_df=3,\n",
    "    max_df=0.85\n",
    "    )\n",
    "X_train = tfidf.fit_transform(train_df['Combined_Text']).toarray()\n",
    "X_dev = tfidf.transform(dev_df['Combined_Text']).toarray()\n",
    "\n",
    "y_train = train_df['label'].values\n",
    "y_dev = dev_df['label'].values\n",
    "\n",
    "# Train a Logistic Regression model\n",
    "model = LogisticRegression()\n",
    "model.fit(X_train, y_train)\n",
    "\n",
    "y_dev_pred = model.predict(X_dev)\n",
    "\n",
    "# Evaluate the model\n",
    "print(\"Accuracy:\", accuracy_score(y_dev, y_dev_pred))\n",
    "print(\"Classification Report:\\n\", classification_report(y_dev, y_dev_pred))"
   ]
  },
  {
   "cell_type": "markdown",
   "metadata": {},
   "source": [
    "# Write Predictions"
   ]
  },
  {
   "cell_type": "code",
   "execution_count": 83,
   "metadata": {},
   "outputs": [],
   "source": [
    "def write_predictions(input_csv_path, output_csv_path='predictions.csv'):\n",
    "    \"\"\"\n",
    "    Reads a CSV file with \"Claim\" and \"Evidence\" columns, preprocesses the text,\n",
    "    makes predictions using the trained model, and writes predictions to a file.\n",
    "    \n",
    "    Args:\n",
    "        input_csv_path (str): Path to the input CSV file\n",
    "        output_csv_path (str): Path to save the predictions (default: 'predictions.csv')\n",
    "    \"\"\"\n",
    "    # Read the input CSV file\n",
    "    test_df = pd.read_csv(input_csv_path)\n",
    "    \n",
    "    # Preprocess the text\n",
    "    test_df['Claim'] = test_df['Claim'].apply(preprocess_text)\n",
    "    test_df['Evidence'] = test_df['Evidence'].apply(preprocess_text)\n",
    "    \n",
    "    # Combine the text\n",
    "    test_df['Combined_Text'] = test_df['Claim'] + \" \" + test_df['Evidence']\n",
    "    \n",
    "    # Transform using the trained TF-IDF vectorizer\n",
    "    X_test = tfidf.transform(test_df['Combined_Text']).toarray()\n",
    "    \n",
    "    # Make predictions\n",
    "    predictions = model.predict(X_test)\n",
    "    \n",
    "    # Save predictions to file\n",
    "    pd.DataFrame(predictions, columns=['prediction']).to_csv(output_csv_path, index=False)\n",
    "\n",
    "write_predictions('data/test.csv')"
   ]
  }
 ],
 "metadata": {
  "kernelspec": {
   "display_name": "venv",
   "language": "python",
   "name": "python3"
  },
  "language_info": {
   "codemirror_mode": {
    "name": "ipython",
    "version": 3
   },
   "file_extension": ".py",
   "mimetype": "text/x-python",
   "name": "python",
   "nbconvert_exporter": "python",
   "pygments_lexer": "ipython3",
   "version": "3.12.4"
  }
 },
 "nbformat": 4,
 "nbformat_minor": 2
}
